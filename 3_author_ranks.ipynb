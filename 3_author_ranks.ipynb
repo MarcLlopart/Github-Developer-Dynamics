{
 "cells": [
  {
   "cell_type": "code",
   "execution_count": 1,
   "metadata": {},
   "outputs": [],
   "source": [
    "\n",
    "import pandas as pd\n",
    "import numpy as np\n",
    "import json\n",
    "import matplotlib.pyplot as plt\n",
    "import seaborn as sns\n",
    "import warnings\n",
    "warnings.filterwarnings('ignore')\n",
    "plt.style.use('ggplot')"
   ]
  },
  {
   "cell_type": "code",
   "execution_count": 2,
   "metadata": {},
   "outputs": [],
   "source": [
    "# DATA FILES\n",
    "\n",
    "price_files = [\"bittensor_token_price.csv\", \"fetchai_token_price.csv\",\n",
    "               \"numerai_token_price.csv\", \"oceanprotocol_token_price.csv\",\n",
    "               \"oraichain_token_price.csv\", \"singularitynet_token_price.csv\"]\n",
    "\n",
    "commits_mapping = {\n",
    "    \"bittensor_commits.json\": \"TAO\",\n",
    "    \"fetchai_commits.json\": \"FET\",\n",
    "    \"numerai_commits.json\": \"NMR\", \n",
    "    \"oceanprotocol_commits.json\": \"OCEAN\",\n",
    "    \"oraichain_commits.json\": \"ORAI\",\n",
    "    \"singularitynet_commits.json\": \"AGIX\"\n",
    "}\n",
    "\n",
    "repos_mapping = {\n",
    "    \"bittensor_repos.json\": \"TAO\",\n",
    "    \"fetchai_repos.json\": \"FET\",\n",
    "    \"numerai_repos.json\": \"NMR\", \n",
    "    \"oceanprotocol_repos.json\": \"OCEAN\",\n",
    "    \"oraichain_repos.json\": \"ORAI\",\n",
    "    \"singularitynet_repos.json\": \"AGIX\"\n",
    "}\n",
    "\n",
    "tokens = [\"TAO\", \"FET\", \"NMR\",\n",
    "          \"OCEAN\", \"ORAI\", \"AGIX\"]\n"
   ]
  },
  {
   "cell_type": "code",
   "execution_count": null,
   "metadata": {},
   "outputs": [],
   "source": [
    "# IDEA: Use get_commits to extract the df with commit_data\n",
    "# Kind of group by author.name (developer) and count the commits by trend\n",
    "# apply the project_rank plot\n",
    "\n"
   ]
  }
 ],
 "metadata": {
  "kernelspec": {
   "display_name": "Python 3",
   "language": "python",
   "name": "python3"
  },
  "language_info": {
   "codemirror_mode": {
    "name": "ipython",
    "version": 3
   },
   "file_extension": ".py",
   "mimetype": "text/x-python",
   "name": "python",
   "nbconvert_exporter": "python",
   "pygments_lexer": "ipython3",
   "version": "3.10.2"
  }
 },
 "nbformat": 4,
 "nbformat_minor": 2
}
