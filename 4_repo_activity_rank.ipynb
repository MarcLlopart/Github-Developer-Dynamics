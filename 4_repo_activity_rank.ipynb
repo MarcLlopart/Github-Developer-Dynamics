{
 "cells": [
  {
   "cell_type": "code",
   "execution_count": 3,
   "metadata": {},
   "outputs": [],
   "source": [
    "import pandas as pd\n",
    "import numpy as np\n",
    "import json\n",
    "import matplotlib.pyplot as plt\n",
    "import seaborn as sns\n",
    "import warnings\n",
    "from urllib.parse import urlparse\n",
    "warnings.filterwarnings('ignore')\n",
    "plt.style.use('ggplot')"
   ]
  },
  {
   "cell_type": "code",
   "execution_count": 4,
   "metadata": {},
   "outputs": [],
   "source": [
    "# DATA FILES\n",
    "\n",
    "price_files = [\"bittensor_token_price.csv\", \"fetchai_token_price.csv\",\n",
    "               \"numerai_token_price.csv\", \"oceanprotocol_token_price.csv\",\n",
    "               \"oraichain_token_price.csv\", \"singularitynet_token_price.csv\"]\n",
    "\n",
    "commits_mapping = {\n",
    "    \"bittensor_commits.json\": \"TAO\",\n",
    "    \"fetchai_commits.json\": \"FET\",\n",
    "    \"numerai_commits.json\": \"NMR\", \n",
    "    \"oceanprotocol_commits.json\": \"OCEAN\",\n",
    "    \"oraichain_commits.json\": \"ORAI\",\n",
    "    \"singularitynet_commits.json\": \"AGIX\"\n",
    "}\n",
    "\n",
    "repos_mapping = {\n",
    "    \"bittensor_repos.json\": \"TAO\",\n",
    "    \"fetchai_repos.json\": \"FET\",\n",
    "    \"numerai_repos.json\": \"NMR\", \n",
    "    \"oceanprotocol_repos.json\": \"OCEAN\",\n",
    "    \"oraichain_repos.json\": \"ORAI\",\n",
    "    \"singularitynet_repos.json\": \"AGIX\"\n",
    "}\n",
    "\n",
    "tokens = [\"TAO\", \"FET\", \"NMR\",\n",
    "          \"OCEAN\", \"ORAI\", \"AGIX\"]"
   ]
  },
  {
   "cell_type": "code",
   "execution_count": 6,
   "metadata": {},
   "outputs": [
    {
     "data": {
      "text/plain": [
       "'agi-faucet'"
      ]
     },
     "execution_count": 6,
     "metadata": {},
     "output_type": "execute_result"
    }
   ],
   "source": [
    "# IDEA: use get_commits to extract commit data\n",
    "# parse url to extract the repo (idea below forom chatgpt)\n",
    "# the group by repo and rank based on total commits\n",
    "# plot evolution of different repos\n",
    "\n",
    "def extract_repo_name(url):\n",
    "    path = urlparse(url).path\n",
    "    # The repo name is the third part of the path\n",
    "    repo_name = path.split('/')[3]\n",
    "    return repo_name\n",
    "\n",
    "extract_repo_name(\"https://api.github.com/repos/singnet/agi-faucet/commits/5857c7a2d0e7b8c603990dba8b14a7c63ce88a97\")"
   ]
  },
  {
   "cell_type": "code",
   "execution_count": null,
   "metadata": {},
   "outputs": [],
   "source": []
  }
 ],
 "metadata": {
  "kernelspec": {
   "display_name": "Python 3",
   "language": "python",
   "name": "python3"
  },
  "language_info": {
   "codemirror_mode": {
    "name": "ipython",
    "version": 3
   },
   "file_extension": ".py",
   "mimetype": "text/x-python",
   "name": "python",
   "nbconvert_exporter": "python",
   "pygments_lexer": "ipython3",
   "version": "3.10.2"
  }
 },
 "nbformat": 4,
 "nbformat_minor": 2
}
