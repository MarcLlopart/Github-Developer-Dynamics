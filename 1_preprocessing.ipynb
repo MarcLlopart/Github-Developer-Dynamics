{
 "cells": [
  {
   "cell_type": "code",
   "execution_count": 2,
   "metadata": {},
   "outputs": [
    {
     "name": "stderr",
     "output_type": "stream",
     "text": [
      "c:\\Users\\pc\\Anaconda3\\lib\\site-packages\\pandas\\core\\computation\\expressions.py:21: UserWarning: Pandas requires version '2.8.4' or newer of 'numexpr' (version '2.7.3' currently installed).\n",
      "  from pandas.core.computation.check import NUMEXPR_INSTALLED\n",
      "c:\\Users\\pc\\Anaconda3\\lib\\site-packages\\pandas\\core\\arrays\\masked.py:60: UserWarning: Pandas requires version '1.3.6' or newer of 'bottleneck' (version '1.3.2' currently installed).\n",
      "  from pandas.core import (\n"
     ]
    }
   ],
   "source": [
    "\n",
    "import pandas as pd\n",
    "import numpy as np\n",
    "import matplotlib.pyplot as plt\n",
    "import seaborn as sns\n",
    "import warnings\n",
    "warnings.filterwarnings('ignore')\n",
    "plt.style.use('ggplot')"
   ]
  },
  {
   "cell_type": "code",
   "execution_count": 2,
   "metadata": {},
   "outputs": [],
   "source": [
    "# DATA FILES\n",
    "\n",
    "price_files = [\"bittensor_token_price.csv\", \"fetchai_token_price.csv\",\n",
    "               \"numerai_token_price.csv\", \"oceanprotocol_token_price.csv\",\n",
    "               \"oraichain_token_price.csv\", \"singularitynet_token_price.csv\"]\n",
    "\n",
    "commits_mapping = {\n",
    "    \"bittensor_commits.json\": \"TAO\",\n",
    "    \"fetchai_commits.json\": \"FET\",\n",
    "    \"numerai_commits.json\": \"NMR\", \n",
    "    \"oceanprotocol_commits.json\": \"OCEAN\",\n",
    "    \"oraichain_commits.json\": \"ORAI\",\n",
    "    \"singularitynet_commits.json\": \"AGIX\"\n",
    "}\n",
    "\n",
    "issues_mapping = {\n",
    "    \"bittensor_issues.json\": \"TAO\",\n",
    "    \"fetchai_issues.json\": \"FET\",\n",
    "    \"numerai_issues.json\": \"NMR\", \n",
    "    \"oceanprotocol_issues.json\": \"OCEAN\",\n",
    "    \"oraichain_issues.json\": \"ORAI\",\n",
    "    \"singularitynet_issues.json\": \"AGIX\"\n",
    "}\n",
    "\n",
    "repos_mapping = {\n",
    "    \"bittensor_repos.json\": \"TAO\",\n",
    "    \"fetchai_repos.json\": \"FET\",\n",
    "    \"numerai_repos.json\": \"NMR\", \n",
    "    \"oceanprotocol_repos.json\": \"OCEAN\",\n",
    "    \"oraichain_repos.json\": \"ORAI\",\n",
    "    \"singularitynet_repos.json\": \"AGIX\"\n",
    "}\n",
    "\n",
    "tokens = [\"TAO\", \"FET\", \"NMR\",\n",
    "          \"OCEAN\", \"ORAI\", \"AGIX\"]\n",
    "\n"
   ]
  },
  {
   "cell_type": "code",
   "execution_count": 1,
   "metadata": {},
   "outputs": [],
   "source": [
    "\n",
    "import json\n",
    "\n",
    "with open(\"github_data/bittensor_issues.json\") as user_file:\n",
    "  parsed_json = json.load(user_file)\n"
   ]
  },
  {
   "cell_type": "code",
   "execution_count": 6,
   "metadata": {},
   "outputs": [
    {
     "data": {
      "text/plain": [
       "Index(['url', 'repository_url', 'labels_url', 'comments_url', 'events_url',\n",
       "       'html_url', 'id', 'node_id', 'number', 'title', 'user', 'labels',\n",
       "       'state', 'locked', 'assignee', 'assignees', 'milestone', 'comments',\n",
       "       'created_at', 'updated_at', 'closed_at', 'author_association',\n",
       "       'active_lock_reason', 'draft', 'pull_request', 'body', 'reactions',\n",
       "       'timeline_url', 'performed_via_github_app', 'state_reason'],\n",
       "      dtype='object')"
      ]
     },
     "execution_count": 6,
     "metadata": {},
     "output_type": "execute_result"
    }
   ],
   "source": [
    "rows = [item for sublist in parsed_json for item in sublist]\n",
    "\n",
    "df = pd.DataFrame(rows)\n",
    "df.columns"
   ]
  },
  {
   "cell_type": "code",
   "execution_count": null,
   "metadata": {},
   "outputs": [],
   "source": [
    "def get_commits(token, mapping):\n",
    "    for k, v in mapping.items():\n",
    "        if token == v:\n",
    "            filename = f'github_data/{k}'\n",
    "            commits_df = pd."
   ]
  }
 ],
 "metadata": {
  "kernelspec": {
   "display_name": "base",
   "language": "python",
   "name": "python3"
  },
  "language_info": {
   "codemirror_mode": {
    "name": "ipython",
    "version": 3
   },
   "file_extension": ".py",
   "mimetype": "text/x-python",
   "name": "python",
   "nbconvert_exporter": "python",
   "pygments_lexer": "ipython3",
   "version": "3.9.7"
  }
 },
 "nbformat": 4,
 "nbformat_minor": 2
}
