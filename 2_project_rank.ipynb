{
 "cells": [
  {
   "cell_type": "code",
   "execution_count": 1,
   "metadata": {},
   "outputs": [],
   "source": [
    "\n",
    "import pandas as pd\n",
    "import numpy as np\n",
    "import json\n",
    "import matplotlib.pyplot as plt\n",
    "import seaborn as sns\n",
    "import warnings\n",
    "warnings.filterwarnings('ignore')\n",
    "plt.style.use('ggplot')"
   ]
  },
  {
   "cell_type": "code",
   "execution_count": 2,
   "metadata": {},
   "outputs": [],
   "source": [
    "# DATA FILES\n",
    "\n",
    "price_files = [\"bittensor_token_price.csv\", \"fetchai_token_price.csv\",\n",
    "               \"numerai_token_price.csv\", \"oceanprotocol_token_price.csv\",\n",
    "               \"oraichain_token_price.csv\", \"singularitynet_token_price.csv\"]\n",
    "\n",
    "commits_mapping = {\n",
    "    \"bittensor_commits.json\": \"TAO\",\n",
    "    \"fetchai_commits.json\": \"FET\",\n",
    "    \"numerai_commits.json\": \"NMR\", \n",
    "    \"oceanprotocol_commits.json\": \"OCEAN\",\n",
    "    \"oraichain_commits.json\": \"ORAI\",\n",
    "    \"singularitynet_commits.json\": \"AGIX\"\n",
    "}\n",
    "\n",
    "issues_mapping = {\n",
    "    \"bittensor_issues.json\": \"TAO\",\n",
    "    \"fetchai_issues.json\": \"FET\",\n",
    "    \"numerai_issues.json\": \"NMR\", \n",
    "    \"oceanprotocol_issues.json\": \"OCEAN\",\n",
    "    \"oraichain_issues.json\": \"ORAI\",\n",
    "    \"singularitynet_issues.json\": \"AGIX\"\n",
    "}\n",
    "\n",
    "repos_mapping = {\n",
    "    \"bittensor_repos.json\": \"TAO\",\n",
    "    \"fetchai_repos.json\": \"FET\",\n",
    "    \"numerai_repos.json\": \"NMR\", \n",
    "    \"oceanprotocol_repos.json\": \"OCEAN\",\n",
    "    \"oraichain_repos.json\": \"ORAI\",\n",
    "    \"singularitynet_repos.json\": \"AGIX\"\n",
    "}\n",
    "\n",
    "tokens = [\"TAO\", \"FET\", \"NMR\",\n",
    "          \"OCEAN\", \"ORAI\", \"AGIX\"]\n",
    "\n"
   ]
  },
  {
   "cell_type": "code",
   "execution_count": null,
   "metadata": {},
   "outputs": [],
   "source": [
    "def get_commits(token, mapping):\n",
    "    for k, v in mapping.items():\n",
    "        if token == v:\n",
    "            filename = f'github_data/{k}'\n",
    "            with open(filename) as commits_file:\n",
    "                parsed_json = json.load(commits_file)\n",
    "            \n",
    "            commits_rows = [row for sublist in parsed_json for row in sublist]\n",
    "            commits_df = pd.DataFrame(commits_rows)\n",
    "            return commits_df\n",
    "    return f'No commit data for token {token}'\n",
    "\n",
    "def get_repos(token, mapping):\n",
    "    for k, v in mapping.items():\n",
    "        if token == v:\n",
    "            filename = f'github_data/{k}'\n",
    "            with open(filename) as repos_file:\n",
    "                parsed_json = json.load(repos_file)\n",
    "            \n",
    "            repos_rows = [row for row in parsed_json]\n",
    "            repo_df = pd.DataFrame(repos_rows)\n",
    "            return repo_df\n",
    "    return f'No repo data for token {token}'"
   ]
  },
  {
   "cell_type": "code",
   "execution_count": null,
   "metadata": {},
   "outputs": [],
   "source": [
    "# IDEA: CALL GET_TRENDS, RETURN WEEK, MONTH AND YEAR, THEN CONCAT ALL DFS AND PLOT ITERATING TOKENS LIST"
   ]
  }
 ],
 "metadata": {
  "kernelspec": {
   "display_name": "Python 3",
   "language": "python",
   "name": "python3"
  },
  "language_info": {
   "codemirror_mode": {
    "name": "ipython",
    "version": 3
   },
   "file_extension": ".py",
   "mimetype": "text/x-python",
   "name": "python",
   "nbconvert_exporter": "python",
   "pygments_lexer": "ipython3",
   "version": "3.10.2"
  }
 },
 "nbformat": 4,
 "nbformat_minor": 2
}
